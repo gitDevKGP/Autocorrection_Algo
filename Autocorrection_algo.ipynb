{
 "cells": [
  {
   "cell_type": "markdown",
   "id": "d6aa4f09-df0e-4bb7-abdb-cb449868ac43",
   "metadata": {},
   "source": [
    "Task 1 : Fuzzy matching Algocore"
   ]
  },
  {
   "cell_type": "markdown",
   "id": "f2e62472-2e34-424f-a88e-e601e16b8df2",
   "metadata": {},
   "source": [
    "Name: Devangan Mukherjee "
   ]
  },
  {
   "cell_type": "markdown",
   "id": "f72e0aa2-6137-4294-8eca-c22d82718500",
   "metadata": {},
   "source": [
    "The following code uses Levenshtein Distance Algorithm to Correctly Identify the incorrectly spelt word."
   ]
  },
  {
   "cell_type": "markdown",
   "id": "baed5282-5198-4b36-8ea0-3ab890033175",
   "metadata": {},
   "source": [
    "First of all we import the libraries , and in an array we store the target words "
   ]
  },
  {
   "cell_type": "code",
   "execution_count": 46,
   "id": "0854df01-5a9b-460f-a707-20da185c48a1",
   "metadata": {},
   "outputs": [],
   "source": [
    "import numpy as np\n",
    "import matplotlib.pyplot as plt\n",
    "import pandas as pd\n",
    "\n",
    "# List of correct career options\n",
    "correct_careers = [\n",
    "    \"Doctor\", \"Lawyer\", \"Teacher\", \"Engineer\", \"Accountant\",\n",
    "    \"Nurse\", \"Police\", \"Architect\", \"Dentist\", \"Pharmacist\"\n",
    "]"
   ]
  },
  {
   "cell_type": "markdown",
   "id": "a8e2ef59-2380-426c-8212-64b24912ea82",
   "metadata": {},
   "source": [
    "Function Definition: The function levenshtein_distance takes two strings, s1 and s2, as inputs."
   ]
  },
  {
   "cell_type": "markdown",
   "id": "75c29b66-54cf-4ad5-ab5b-80580f6118ff",
   "metadata": {},
   "source": [
    "Swapping Strings: The first if condition checks if the length of s1 is less than the length of s2. If true, it swaps the strings by calling levenshtein_distance(s2, s1). This ensures that s1 is always the longer (or equal length) string, optimizing the space complexity."
   ]
  },
  {
   "cell_type": "markdown",
   "id": "e075d5f7-3cd6-40ff-80b5-66d798277d60",
   "metadata": {},
   "source": [
    "Empty String Case: The second if condition checks if s2 is empty. If s2 is empty, the distance is simply the length of s1 because it would take that many deletions to transform s1 into an empty string."
   ]
  },
  {
   "cell_type": "markdown",
   "id": "f785f659-2fa7-4b45-b9b5-079dab894d39",
   "metadata": {},
   "source": [
    "Previous Row Initialization: previous_row is initialized to a range object representing the distances from an empty string to each prefix of s2. For example, if s2 is \"abc\", previous_row will be [0, 1, 2, 3]. This initialization corresponds to the cost of inserting each character of s2 into an empty string."
   ]
  },
  {
   "cell_type": "markdown",
   "id": "7f801caf-67f7-4b05-ad2a-0a67ac9cc9ba",
   "metadata": {},
   "source": [
    "Outer Loop (s1): The outer loop iterates over each character c1 in s1, with i as the index.\n",
    "Current Row Initialization: At the start of each iteration of the outer loop, current_row is initialized with i + 1. This represents the cost of transforming the prefix of s1 up to i into an empty string by performing i + 1 deletions.\n",
    "Inner Loop (s2): The inner loop iterates over each character c2 in s2, with j as the index.\n",
    "Insertion Cost: insertions is calculated as previous_row[j + 1] + 1. This represents the cost of inserting c2 into the prefix of s1 to match the prefix of s2 up to j + 1.\n",
    "Deletion Cost: deletions is calculated as current_row[j] + 1. This represents the cost of deleting c1 from the prefix of s1 to match the prefix of s2 up to j.\n",
    "Substitution Cost: substitutions is calculated as previous_row[j] + (c1 != c2). If c1 and c2 are the same, the cost is previous_row[j] (no substitution needed). If they are different, the cost is previous_row[j] + 1 (one substitution needed).\n",
    "Appending Minimum Cost: The minimum of insertions, deletions, and substitutions is appended to current_row, representing the minimum cost to transform the prefix of s1 up to i into the prefix of s2 up to j + 1.\n",
    "Updating Previous Row: At the end of each iteration of the outer loop, previous_row is updated to be current_row, moving the comparison window one character further in s1."
   ]
  },
  {
   "cell_type": "code",
   "execution_count": 47,
   "id": "22d93048-20bf-473b-a023-d70030f2f08f",
   "metadata": {},
   "outputs": [],
   "source": [
    "# Function to calculate Levenshtein distance between two strings\n",
    "def levenshtein_distance(s1, s2):\n",
    "    if len(s1) < len(s2):\n",
    "        return levenshtein_distance(s2, s1)\n",
    "    if len(s2) == 0:\n",
    "        return len(s1)\n",
    "    \n",
    "    previous_row = range(len(s2) + 1)\n",
    "    for i, c1 in enumerate(s1):\n",
    "        current_row = [i + 1]\n",
    "        for j, c2 in enumerate(s2):\n",
    "            insertions = previous_row[j + 1] + 1\n",
    "            deletions = current_row[j] + 1\n",
    "            substitutions = previous_row[j] + (c1 != c2)\n",
    "            current_row.append(min(insertions, deletions, substitutions))\n",
    "        previous_row = current_row\n",
    "    \n",
    "    return previous_row[-1]"
   ]
  },
  {
   "cell_type": "markdown",
   "id": "ab743b92-58e8-432c-b2d8-ed468fd7b3d9",
   "metadata": {},
   "source": [
    "The function correct_spelling takes a single argument word, which is the word whose spelling needs to be corrected."
   ]
  },
  {
   "cell_type": "markdown",
   "id": "b4efb811-1976-4c7e-861c-51a36c75f109",
   "metadata": {},
   "source": [
    "min_distance: This variable is initialized to positive infinity (float('inf')). It will be used to keep track of the smallest Levenshtein distance encountered during the comparisons."
   ]
  },
  {
   "cell_type": "markdown",
   "id": "44e53f5a-f876-46e7-859d-11e54151364e",
   "metadata": {},
   "source": [
    "closest_match: This variable is initialized to None. It will store the word from the list that has the smallest Levenshtein distance to the input word."
   ]
  },
  {
   "cell_type": "markdown",
   "id": "848c5908-7326-4574-99eb-6d685e16ec8d",
   "metadata": {},
   "source": [
    "Loop Through correct_careers: The for loop iterates over each word in the list correct_careers. This list is assumed to contain correctly spelled career names."
   ]
  },
  {
   "cell_type": "markdown",
   "id": "d1feb337-3559-4228-bf52-e254653ba4e5",
   "metadata": {},
   "source": [
    "Compute Levenshtein Distance: For each career in the list, the function calculates the Levenshtein distance between the input word and the current career using the levenshtein_distance function. Both words are converted to lowercase to make the comparison case-insensitive (word.lower() and career.lower())."
   ]
  },
  {
   "cell_type": "markdown",
   "id": "cd440835-f5a4-40c1-b1f7-18cfb67b97b0",
   "metadata": {},
   "source": [
    "Update Minimum Distance and Closest Match: The if statement checks if the computed distance is less than min_distance. If true, it updates min_distance to the new lower distance and sets closest_match to the current career. This ensures that closest_match always holds the word from the list with the smallest Levenshtein distance to the input word."
   ]
  },
  {
   "cell_type": "code",
   "execution_count": 48,
   "id": "65053793-6ef9-463f-8e99-0848d192a93f",
   "metadata": {},
   "outputs": [],
   "source": [
    "# Function to correct spelling using Levenshtein distance\n",
    "def correct_spelling(word):\n",
    "    min_distance = float('inf')\n",
    "    closest_match = None\n",
    "    for career in correct_careers:\n",
    "        distance = levenshtein_distance(word.lower(), career.lower())\n",
    "        if distance < min_distance:\n",
    "            min_distance = distance\n",
    "            closest_match = career\n",
    "    return closest_match"
   ]
  },
  {
   "cell_type": "markdown",
   "id": "a2cfaba3-8686-4866-a602-ec2de967ccbe",
   "metadata": {},
   "source": [
    "Load CSV: The code uses pandas to read a CSV file named responses.csv into a DataFrame called responses_df."
   ]
  },
  {
   "cell_type": "markdown",
   "id": "401b17ef-dd8e-4b1d-9e72-e5b1af1bb95c",
   "metadata": {},
   "source": [
    "Extract Responses: It extracts the \"Response\" column from the DataFrame and converts it to a list called responses."
   ]
  },
  {
   "cell_type": "markdown",
   "id": "a675de04-f753-4ff0-adc1-2f97f4ec0432",
   "metadata": {},
   "source": [
    "Correct Spelling: It iterates over each response in the responses list, using the correct_spelling function to correct any spelling mistakes. The corrected responses are stored in a new list called corrected_responses."
   ]
  },
  {
   "cell_type": "markdown",
   "id": "ed581db4-30d1-4da2-bbd8-fdfd28f4de9d",
   "metadata": {},
   "source": [
    "Initialize Dictionary: An empty dictionary career_counts is initialized to store the frequency of each career choice."
   ]
  },
  {
   "cell_type": "markdown",
   "id": "5f643a54-302d-46cf-9b4a-44928668373d",
   "metadata": {},
   "source": [
    "Count Frequencies: It iterates over each corrected career in corrected_responses. For each career:\n",
    "If the career is already in career_counts, its count is incremented by 1.\n",
    "If the career is not in career_counts, it is added with an initial count of 1."
   ]
  },
  {
   "cell_type": "code",
   "execution_count": 49,
   "id": "1dbc9d70-ff63-4456-9994-04e1f503caa8",
   "metadata": {},
   "outputs": [],
   "source": [
    "# Read responses from Xlsx file\n",
    "responses_df = pd.read_csv(\"responses.csv\")\n",
    "responses = responses_df[\"Response\"].tolist()\n",
    "\n",
    "# Correcting spelling mistakes in responses\n",
    "corrected_responses = [correct_spelling(response) for response in responses]\n",
    "\n",
    "# Counting frequency of each career choice\n",
    "career_counts = {}\n",
    "for career in corrected_responses:\n",
    "    if career in career_counts:\n",
    "        career_counts[career] += 1\n",
    "    else:\n",
    "        career_counts[career] = 1"
   ]
  },
  {
   "cell_type": "markdown",
   "id": "b0566eaa-a0ea-4c62-b935-35f4af56cefe",
   "metadata": {},
   "source": [
    "The provided code generates a bar chart to visualize the career aspirations of students based on the frequency of each career choice. Using the plt.bar function from the matplotlib library, it plots the career choices (keys of the career_counts dictionary) on the x-axis and their corresponding frequencies (values of the career_counts dictionary) on the y-axis. The x-axis is labeled \"Career Choices,\" and the y-axis is labeled \"Frequency\" to clearly indicate what the axes represent. The chart is titled \"Career Aspirations of Students\" for context, and the x-axis labels are rotated 45 degrees to improve readability of the career names. Finally, plt.show() displays the bar chart."
   ]
  },
  {
   "cell_type": "code",
   "execution_count": 50,
   "id": "67f3ab3e-feaa-4f77-b1af-89c5e25fee0d",
   "metadata": {},
   "outputs": [
    {
     "data": {
      "image/png": "[encoded data removed]",
      "text/plain": [
       "<Figure size 640x480 with 1 Axes>"
      ]
     },
     "metadata": {},
     "output_type": "display_data"
    }
   ],
   "source": [
    "# Plotting the career aspirations of students\n",
    "plt.bar(career_counts.keys(), career_counts.values())\n",
    "plt.xlabel('Career Choices')\n",
    "plt.ylabel('Frequency')\n",
    "plt.title('Career Aspirations of Students')\n",
    "plt.xticks(rotation=45)\n",
    "\n",
    "plt.show()"
   ]
  }
 ],
 "metadata": {
  "kernelspec": {
   "display_name": "Python 3 (ipykernel)",
   "language": "python",
   "name": "python3"
  },
  "language_info": {
   "codemirror_mode": {
    "name": "ipython",
    "version": 3
   },
   "file_extension": ".py",
   "mimetype": "text/x-python",
   "name": "python",
   "nbconvert_exporter": "python",
   "pygments_lexer": "ipython3",
   "version": "3.11.5"
  }
 },
 "nbformat": 4,
 "nbformat_minor": 5
}
